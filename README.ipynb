{
 "cells": [
  {
   "cell_type": "markdown",
   "id": "94958aea",
   "metadata": {},
   "source": [
    "### <b>kaggle_ovrp</b>\n",
    "\n",
    "<i>Author: Sean O'Hara\n",
    "\n",
    "A simulation-based approach to predicting stock volatility by treating price movements as a system of competing queues. <i>Still a work in progress!</i>\n",
    "\n",
    "<b>** Note:</b> Training and running the model requires data from Kaggle's Optiver Realized Volatility Prediction competition. The data can be downloaded [here](https://www.kaggle.com/c/optiver-realized-volatility-prediction/data). "
   ]
  },
  {
   "cell_type": "markdown",
   "id": "6cfc39c2",
   "metadata": {},
   "source": [
    "#### Table of Contents\n",
    "I. [Background](#sec_1)\n",
    "\n",
    "II. [Literature](#sec_2)\n",
    "\n",
    "III. [Data Engineering](#sec_3)\n",
    "\n",
    "IV. [Model Construction](#sec_4)\n",
    "\n",
    "V. [Performance Analysis](#sec_5)\n",
    "\n",
    "VI. [Conclusion](#sec_6)"
   ]
  },
  {
   "cell_type": "markdown",
   "id": "d1e89f8d",
   "metadata": {},
   "source": [
    "<a id = sec_1></a>\n",
    "### I. Background"
   ]
  },
  {
   "cell_type": "code",
   "execution_count": null,
   "id": "63c6360a",
   "metadata": {},
   "outputs": [],
   "source": []
  },
  {
   "cell_type": "markdown",
   "id": "7704f622",
   "metadata": {},
   "source": [
    "<a id = \"sec_2\"></a>\n",
    "### II. Relevant Literature"
   ]
  },
  {
   "cell_type": "code",
   "execution_count": null,
   "id": "9d44bf93",
   "metadata": {},
   "outputs": [],
   "source": []
  }
 ],
 "metadata": {
  "kernelspec": {
   "display_name": "Python 3",
   "language": "python",
   "name": "python3"
  },
  "language_info": {
   "codemirror_mode": {
    "name": "ipython",
    "version": 3
   },
   "file_extension": ".py",
   "mimetype": "text/x-python",
   "name": "python",
   "nbconvert_exporter": "python",
   "pygments_lexer": "ipython3",
   "version": "3.9.5"
  }
 },
 "nbformat": 4,
 "nbformat_minor": 5
}
